{
  "nbformat": 4,
  "nbformat_minor": 0,
  "metadata": {
    "colab": {
      "provenance": [],
      "authorship_tag": "ABX9TyNbhLyYc4YkT2X0oF2f5wDo",
      "include_colab_link": true
    },
    "kernelspec": {
      "name": "python3",
      "display_name": "Python 3"
    },
    "language_info": {
      "name": "python"
    }
  },
  "cells": [
    {
      "cell_type": "markdown",
      "metadata": {
        "id": "view-in-github",
        "colab_type": "text"
      },
      "source": [
        "<a href=\"https://colab.research.google.com/github/FlexTaco/cs370/blob/main/assignments/assignment-1b/assignment1b.ipynb\" target=\"_parent\"><img src=\"https://colab.research.google.com/assets/colab-badge.svg\" alt=\"Open In Colab\"/></a>"
      ]
    },
    {
      "cell_type": "markdown",
      "source": [
        "# task 1\n",
        "model function:\n",
        "ŷ(x; w) = $Σ_{j=0}^{m}$ $w_{j}$ * $x^{j}$\n",
        "\n",
        "loss function(Ridge regression + MSE):\n",
        "L = 1/n $Σ_{i=0}^{n} $($y ̂_{i}$ - $y_{i}$)^2 + λ $Σ_{j=1}^{M}$$w_{j}^{2}$\n",
        "\n",
        "Gradient:\n",
        "∂L/∂w = L = 1/2n $Σ_{i=0}^{n} $($y ̂_{i}$ - $y_{i}$) + λ/2 $Σ_{j=1}^{M}$$w_{j}$\n",
        "\n",
        "weight formula:\n",
        "$w_{j}$ = $w_{j}$ - α *∂L/∂$w_{j}$\n",
        "\n"
      ],
      "metadata": {
        "id": "kpRvvsIUj0MG"
      }
    },
    {
      "cell_type": "markdown",
      "source": [],
      "metadata": {
        "id": "N1EwYivU0V0Y"
      }
    },
    {
      "cell_type": "code",
      "source": [
        "import torch\n",
        "import matplotlib.pyplot as plt\n",
        "\n",
        "\n",
        "#remake from the notebook but using pytorchj\n",
        "def create_toy_data(func, sample_size, std, domain=[0, 1]):\n",
        "    x = torch.linspace(domain[0], domain[1], sample_size)\n",
        "    y = func(x) + torch.normal(mean=0, std=1, size=(sample_size,), dtype=torch.float32)\n",
        "    return x, y\n",
        "\n",
        "def sinusoidal(x):\n",
        "    return torch.sin(2 * torch.pi * x)\n",
        "\n",
        "x_train, y_train = create_toy_data(sinusoidal, 10, 0.25)\n",
        "x_train_unsqueeze = torch.unsqueeze(x_train, dim=1)\n",
        "x_train_poly = torch.cat([x_train_unsqueeze**i for i in range(1, 9 + 1)], dim=1)\n",
        "#this didn't work\n",
        "#x_train_poly = torch.stack([x_train[:, 0]**i for i in range(1, 9 + 1)], dim=1)\n",
        "\n",
        "#make into tensors\n",
        "x_train = x_train_poly.float()\n",
        "y_train = y_train.float().reshape(-1, 1)\n",
        "\n",
        "weights = torch.randn(9, 1, requires_grad=True)\n",
        "bias = torch.randn(1, requires_grad=True)\n",
        "\n",
        "#parameters, come back and edit epoch\n",
        "learning_rate = 0.01\n",
        "epochs = 2000\n",
        "lambda_reg = 0.1\n",
        "\n",
        "\n",
        "loss_arr = []\n",
        "for epoch in range(epochs):\n",
        "\n",
        "  predictions = torch.mm(x_train, weights) + bias\n",
        "\n",
        "  #adding calculating loss\n",
        "  errors = predictions - y_train\n",
        "  mse_loss = torch.mean(errors**2) / 2\n",
        "  l2_reg = (lambda_reg / 2) * torch.sum(weights**2)\n",
        "  loss = mse_loss + l2_reg\n",
        "  loss.backward()\n",
        "\n",
        "  #recal weights and bias\n",
        "  with torch.no_grad():\n",
        "    weights -= learning_rate * weights.grad\n",
        "    bias -= learning_rate * bias.grad\n",
        "  weights.grad.zero_()\n",
        "  bias.grad.zero_()\n",
        "\n",
        "  loss_arr.append(loss.item())\n",
        "\n",
        "#loss vs epochs\n",
        "plt.plot(loss_arr)\n",
        "plt.xlabel(\"Epoch\")\n",
        "plt.ylabel(\"Loss\")\n",
        "plt.title(\"Loss vs Epoch\")\n",
        "plt.show()\n",
        "\n",
        "print(weights.detach().numpy())\n",
        "print(bias.detach().numpy())"
      ],
      "metadata": {
        "colab": {
          "base_uri": "https://localhost:8080/",
          "height": 651
        },
        "id": "fhK2_CtVzCWd",
        "outputId": "578b96a7-acfe-41ec-aa89-6bfcf3e815ab"
      },
      "execution_count": null,
      "outputs": [
        {
          "output_type": "display_data",
          "data": {
            "text/plain": [
              "<Figure size 640x480 with 1 Axes>"
            ],
            "image/png": "[encoded data removed]"
          },
          "metadata": {}
        },
        {
          "output_type": "stream",
          "name": "stdout",
          "text": [
            "[[-0.86681163]\n",
            " [-0.42141896]\n",
            " [ 0.00180116]\n",
            " [ 0.02096794]\n",
            " [ 0.24420029]\n",
            " [ 0.436113  ]\n",
            " [ 0.03525937]\n",
            " [ 0.18264686]\n",
            " [ 0.2245867 ]]\n",
            "[0.30173016]\n"
          ]
        }
      ]
    },
    {
      "cell_type": "markdown",
      "source": [
        "# Logistic Regression\n",
        "\n",
        "# Task 1"
      ],
      "metadata": {
        "id": "Lf0q0i_K9U2V"
      }
    },
    {
      "cell_type": "code",
      "source": [],
      "metadata": {
        "id": "m72-v2ue9XOJ"
      },
      "execution_count": null,
      "outputs": []
    }
  ]
}