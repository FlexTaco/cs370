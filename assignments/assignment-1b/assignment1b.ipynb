{
  "cells": [
    {
      "cell_type": "markdown",
      "metadata": {
        "colab_type": "text",
        "id": "view-in-github"
      },
      "source": [
        "<a href=\"https://colab.research.google.com/github/FlexTaco/cs370/blob/main/assignments/assignment-1b/assignment1b.ipynb\" target=\"_parent\"><img src=\"https://colab.research.google.com/assets/colab-badge.svg\" alt=\"Open In Colab\"/></a>"
      ]
    },
    {
      "cell_type": "markdown",
      "metadata": {
        "id": "kpRvvsIUj0MG"
      },
      "source": [
        "# task 1\n",
        "model function:\n",
        "ŷ(x; w) = $Σ_{j=0}^{m}$ $w_{j}$ * $x^{j}$\n",
        "\\\n",
        "loss function(Ridge regression + MSE):\n",
        "L = 1/n $Σ_{i=0}^{n} $(^$y_{i}$ - $y_{i}$)^2 + λ $Σ_{j=1}^{M}$ $w_{j}^{2}$\n",
        "\\\n",
        "Gradient:\n",
        "∂L/∂w = L = 1/2n $Σ_{i=0}^{n} $(^$y_{i}$ - $y_{i}$) + λ/2 $Σ_{j=1}^{M}$ $w_{j}$\n",
        "\\\n",
        "weight formula:\n",
        "$w_{j}$ = $w_{j}$ - α *∂L/∂$w_{j}$\n"
      ]
    },
    {
      "cell_type": "code",
      "execution_count": 77,
      "metadata": {
        "colab": {
          "base_uri": "https://localhost:8080/",
          "height": 651
        },
        "id": "fhK2_CtVzCWd",
        "outputId": "578b96a7-acfe-41ec-aa89-6bfcf3e815ab"
      },
      "outputs": [
        {
          "data": {
            "image/png": "[encoded data removed]",
            "text/plain": [
              "<Figure size 640x480 with 1 Axes>"
            ]
          },
          "metadata": {},
          "output_type": "display_data"
        },
        {
          "name": "stdout",
          "output_type": "stream",
          "text": [
            "tensor([[-0.3091],\n",
            "        [-0.0932],\n",
            "        [ 0.1724],\n",
            "        [-0.1664],\n",
            "        [-0.1635],\n",
            "        [-0.0415],\n",
            "        [ 0.2010],\n",
            "        [ 0.0587],\n",
            "        [ 0.3831]], requires_grad=True)\n",
            "tensor([-0.1600], requires_grad=True)\n"
          ]
        }
      ],
      "source": [
        "import torch\n",
        "import matplotlib.pyplot as plt\n",
        "\n",
        "\n",
        "#remake from the notebook but using pytorchj\n",
        "def create_toy_data(func, sample_size, std, domain=[0, 1]):\n",
        "    x = torch.linspace(domain[0], domain[1], sample_size)\n",
        "    y = func(x) + torch.normal(mean=0, std=1, size=(sample_size,), dtype=torch.float32)\n",
        "    return x, y\n",
        "\n",
        "def sinusoidal(x):\n",
        "    return torch.sin(2 * torch.pi * x)\n",
        "\n",
        "x_train, y_train = create_toy_data(sinusoidal, 10, 0.25)\n",
        "x_train_unsqueeze = torch.unsqueeze(x_train, dim=1)\n",
        "x_train_poly = torch.cat([x_train_unsqueeze**i for i in range(1, 9 + 1)], dim=1)\n",
        "#this didn't work\n",
        "#x_train_poly = torch.stack([x_train[:, 0]**i for i in range(1, 9 + 1)], dim=1)\n",
        "\n",
        "#make into tensors\n",
        "x_train = x_train_poly.float()\n",
        "y_train = y_train.float().reshape(-1, 1)\n",
        "\n",
        "weights = torch.randn(9, 1, requires_grad=True)\n",
        "bias = torch.randn(1, requires_grad=True)\n",
        "\n",
        "#parameters, come back and edit epoch\n",
        "learning_rate = 0.01\n",
        "epochs = 2000\n",
        "lambda_reg = 0.1\n",
        "\n",
        "\n",
        "loss_arr = []\n",
        "for epoch in range(epochs):\n",
        "\n",
        "  predictions = torch.mm(x_train, weights) + bias\n",
        "\n",
        "  #adding calculating loss\n",
        "  errors = predictions - y_train\n",
        "  mse_loss = torch.mean(errors**2) / 2\n",
        "  l2_reg = (lambda_reg / 2) * torch.sum(weights**2)\n",
        "  loss = mse_loss + l2_reg\n",
        "  loss.backward()\n",
        "\n",
        "  #recal weights and bias\n",
        "  with torch.no_grad():\n",
        "    weights -= learning_rate * weights.grad\n",
        "    bias -= learning_rate * bias.grad\n",
        "  weights.grad.zero_()\n",
        "  bias.grad.zero_()\n",
        "\n",
        "  loss_arr.append(loss.item())\n",
        "\n",
        "#loss vs epochs\n",
        "plt.plot(loss_arr)\n",
        "plt.xlabel(\"Epoch\")\n",
        "plt.ylabel(\"Loss\")\n",
        "plt.title(\"Loss vs Epoch\")\n",
        "plt.show()\n",
        "\n",
        "print(weights)\n",
        "print(bias)"
      ]
    },
    {
      "cell_type": "markdown",
      "metadata": {
        "id": "Lf0q0i_K9U2V"
      },
      "source": [
        "# Logistic Regression\n",
        "\n",
        "# Task 1"
      ]
    },
    {
      "cell_type": "code",
      "execution_count": 87,
      "metadata": {},
      "outputs": [],
      "source": [
        "import pandas as pd\n",
        "import seaborn as sn \n",
        "import numpy as np\n",
        "from sklearn.model_selection import train_test_split\n",
        "from sklearn.preprocessing import StandardScaler, OneHotEncoder\n",
        "from sklearn.compose import ColumnTransformer\n",
        "\n",
        "#only loaded 8,000 to get it to work. Can do the whole thing just takes longer.\n",
        "df = pd.read_csv(\"/Users/junior/Desktop/cs370course/avazu-ctr-prediction/train.csv\",nrows=8000)\n",
        "\n",
        "#some data exploration\n",
        "# print(df.info())\n",
        "# print(\"Missing\", df.isnull().sum())\n",
        "# print(df.corr(method=\"pearson\"))\n",
        "# map = sn.heatmap(data=df)\n",
        "\n",
        "df_cleaned = df.drop(columns=[\"app_id\", \"app_domain\", \"device_model\"])\n",
        "\n",
        "category = ['site_category', 'app_category', 'device_type', 'banner_pos', 'device_conn_type']\n",
        "numerical = ['C1', 'C14', 'C15', 'C16', 'C17', 'C18', 'C19', 'C20', 'C21']\n",
        "\n",
        "#standardization and one-hot encoding\n",
        "preprocessor = ColumnTransformer(\n",
        "    transformers=[\n",
        "        ('numberical', StandardScaler(), numerical),\n",
        "        ('category', OneHotEncoder(handle_unknown='ignore'), category)\n",
        "    ])\n",
        "\n",
        "X = df_cleaned.drop(columns=['click'])\n",
        "y = df_cleaned['click']\n",
        "\n",
        "#80-20 split\n",
        "X_train, X_test, y_train, y_test = train_test_split(X, y, test_size=0.2, random_state=42)\n",
        "\n",
        "#Preprocess data \n",
        "X_train_processed = preprocessor.fit_transform(X_train)\n",
        "X_test_processed = preprocessor.transform(X_test)\n"
      ]
    },
    {
      "cell_type": "markdown",
      "metadata": {},
      "source": [
        "# Task 2"
      ]
    },
    {
      "cell_type": "markdown",
      "metadata": {},
      "source": [
        "L = -1/m $Σ_{i=1}^{m}$ ($y_{i}$ * log(^$y_{i}$) + (1-$y_{i}$) * log(1-^$y_{i}$))\n",
        "\\\n",
        "s(z) = 1/(1+$e^{-z}$)\n",
        "\\\n",
        "Precision = True Positives/(False Positives + True Positives)\n",
        "\\\n",
        "Recall= True Positives/(False Negatives + True Positives)\n",
        "​\n",
        "\n",
        "​\n"
      ]
    },
    {
      "cell_type": "code",
      "execution_count": 88,
      "metadata": {},
      "outputs": [
        {
          "name": "stderr",
          "output_type": "stream",
          "text": [
            "/var/folders/94/8ft038r960j57kvtp1ff54f00000gn/T/ipykernel_35784/2688110952.py:32: FutureWarning: The behavior of `series[i:j]` with an integer-dtype index is deprecated. In a future version, this will be treated as *label-based* indexing, consistent with e.g. `series[i]` lookups. To retain the old behavior, use `series.iloc[i:j]`. To get the future behavior, use `series.loc[i:j]`.\n",
            "  y_batch = y[i:i + self.batch_size]\n"
          ]
        },
        {
          "data": {
            "image/png": "[encoded data removed]",
            "text/plain": [
              "<Figure size 640x480 with 1 Axes>"
            ]
          },
          "metadata": {},
          "output_type": "display_data"
        }
      ],
      "source": [
        "from sklearn.metrics import precision_recall_curve, PrecisionRecallDisplay\n",
        "import matplotlib.pyplot as plt\n",
        "\n",
        "#sigmoid equation\n",
        "def sigmoid(z):\n",
        "    return 1 / (1 + np.exp(-z))\n",
        "\n",
        "#Loss equation\n",
        "def binary_cross_entropy(y_true, y_pred):\n",
        "    return -np.mean(y_true * np.log(y_pred + 1e-15) + (1 - y_true) * np.log(1 - y_pred + 1e-15))\n",
        "\n",
        "class LogisticRegressionSGD:\n",
        "    def __init__(self, learning_rate=0.01, epochs=1000, batch_size=64):\n",
        "        self.learning_rate = learning_rate\n",
        "        self.epochs = epochs\n",
        "        self.batch_size = batch_size\n",
        "\n",
        "    def initialize_weights(self, n_features):\n",
        "        self.weights = np.zeros(n_features)\n",
        "        self.bias = 0\n",
        "\n",
        "    def fit(self, X, y):\n",
        "        n_samples, n_features = X.shape\n",
        "        self.initialize_weights(n_features)\n",
        "\n",
        "        #SGD\n",
        "        for epoch in range(self.epochs):\n",
        "            #use mini batch instead of whole to speed up algo\n",
        "            for i in range(0, n_samples, self.batch_size):\n",
        "                \n",
        "                X_batch = X[i:i + self.batch_size]\n",
        "                y_batch = y[i:i + self.batch_size]\n",
        "\n",
        "                # Model predictions\n",
        "                linear_model = np.dot(X_batch, self.weights) + self.bias\n",
        "                y_predicted = sigmoid(linear_model)\n",
        "                dw = (1 / len(X_batch)) * np.dot(X_batch.T, (y_predicted - y_batch))\n",
        "                db = (1 / len(X_batch)) * np.sum(y_predicted - y_batch)\n",
        "\n",
        "                # Update weights\n",
        "                self.weights -= self.learning_rate * dw\n",
        "                self.bias -= self.learning_rate * db\n",
        "\n",
        "    def predict_prob(self, X):\n",
        "        linear_model = np.dot(X, self.weights) + self.bias\n",
        "        return sigmoid(linear_model)\n",
        "\n",
        "    def predict(self, X):\n",
        "        y_pred_prob = self.predict_prob(X)\n",
        "        return np.where(y_pred_prob >= 0.5, 1, 0)\n",
        "    \n",
        "#mkae our model\n",
        "model = LogisticRegressionSGD(learning_rate=0.01, epochs=1000, batch_size=64)\n",
        "model.fit(X_train_processed, y_train)\n",
        "\n",
        "#testing our model to predict y\n",
        "y_pred_prob = model.predict_prob(X_test_processed)\n",
        "y_pred = model.predict(X_test_processed)\n",
        "y_pred[:5], y_pred_prob[:5]\n",
        "#Calculate precision and recall\n",
        "precision, recall, thresholds = precision_recall_curve(y_test, y_pred_prob)\n",
        "display = PrecisionRecallDisplay(precision=precision, recall=recall)\n",
        "display.plot()\n",
        "plt.title('Precision vs Recall')\n",
        "plt.xlabel('Recall')\n",
        "plt.ylabel('Precision')\n",
        "plt.show()"
      ]
    },
    {
      "cell_type": "markdown",
      "metadata": {},
      "source": [
        "High Precision, Low Recall occurs when there are more positive predictions but only when it is certain. This will may miss many true positives.\n",
        "\n",
        "High Recall, Low Precision occurs when there are more positives. It has more true positives but also predicts more false positives."
      ]
    }
  ],
  "metadata": {
    "colab": {
      "authorship_tag": "ABX9TyNbhLyYc4YkT2X0oF2f5wDo",
      "include_colab_link": true,
      "provenance": []
    },
    "kernelspec": {
      "display_name": "Python 3",
      "name": "python3"
    },
    "language_info": {
      "codemirror_mode": {
        "name": "ipython",
        "version": 3
      },
      "file_extension": ".py",
      "mimetype": "text/x-python",
      "name": "python",
      "nbconvert_exporter": "python",
      "pygments_lexer": "ipython3",
      "version": "3.11.1"
    }
  },
  "nbformat": 4,
  "nbformat_minor": 0
}
